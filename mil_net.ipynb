{
  "nbformat": 4,
  "nbformat_minor": 0,
  "metadata": {
    "colab": {
      "name": "mil_net.ipynb",
      "version": "0.3.2",
      "provenance": [],
      "collapsed_sections": []
    },
    "kernelspec": {
      "name": "python3",
      "display_name": "Python 3"
    },
    "accelerator": "GPU"
  },
  "cells": [
    {
      "cell_type": "code",
      "metadata": {
        "id": "PPiu0FUpDXOg",
        "colab_type": "code",
        "colab": {}
      },
      "source": [
        "import tensorflow as tf\n",
        "import numpy as np\n",
        "# !pip install tensorflow==2.0.0-beta1"
      ],
      "execution_count": 0,
      "outputs": []
    },
    {
      "cell_type": "code",
      "metadata": {
        "id": "q12ET7dhDjBi",
        "colab_type": "code",
        "colab": {}
      },
      "source": [
        "max_seg = 20\n",
        "max_word = 30\n",
        "\n",
        "train_amount = 500\n",
        "test_amount = 100\n",
        "\n",
        "w2v_len = 30\n",
        "level_class_cnt = 5\n",
        "\n",
        "dropout_rate = 0.5\n",
        "hidden_feature_dim = 70\n",
        "gru_feature_dim = 150\n",
        "kernel_heights = [3, 4, 5]"
      ],
      "execution_count": 0,
      "outputs": []
    },
    {
      "cell_type": "code",
      "metadata": {
        "id": "FDDd0ZLhESr2",
        "colab_type": "code",
        "outputId": "5181fa09-ff24-45ce-9b2b-3e6d5558d03d",
        "colab": {
          "base_uri": "https://localhost:8080/",
          "height": 51
        }
      },
      "source": [
        "x_train = np.random.randint(0, 50, (train_amount, max_seg, max_word))\n",
        "x_test = np.random.randint(0, 50, (test_amount, max_seg, max_word))\n",
        "\n",
        "y_train = np.random.randint(0, 5, (train_amount))\n",
        "y_test = np.random.randint(0, 5, (test_amount))\n",
        "\n",
        "fake_w2v = np.random.rand(50, w2v_len)\n",
        "\n",
        "# x_train = np.expand_dims(fake_w2v[x_train], axis=-1)\n",
        "# x_test = np.expand_dims(fake_w2v[x_test], axis=-1)\n",
        "\n",
        "print(x_train.shape, y_train.shape)\n",
        "print(x_test.shape, y_test.shape)"
      ],
      "execution_count": 3,
      "outputs": [
        {
          "output_type": "stream",
          "text": [
            "(500, 20, 30) (500,)\n",
            "(100, 20, 30) (100,)\n"
          ],
          "name": "stdout"
        }
      ]
    },
    {
      "cell_type": "code",
      "metadata": {
        "id": "VCbWOTVnM6QX",
        "colab_type": "code",
        "colab": {}
      },
      "source": [
        "''' Slice a piece from one dimension.\n",
        "\n",
        "The layer would slice the `index`th dimension from `target_dim` dimension of\n",
        "the input tensor, which have `total_dim` dimensions, then squeeze the tensor\n",
        "over the sliced dimension.\n",
        "\n",
        "Args:\n",
        "    total_dim (int): The total number of dimensions of the input tensor.\n",
        "    target_dim (int): The index of the dimension that need to slice.\n",
        "    index (int): The index of the dimension to keep in the slicing operation.\n",
        "\n",
        "Returns:\n",
        "    (Layer): A keras layer that implement the operation.\n",
        "'''\n",
        "def __get_filter_layer(total_dim, target_dim, index):\n",
        "    def tensor_filter(tensor_in):\n",
        "        nonlocal index\n",
        "        begin = [0 if i != target_dim else index for i in range(total_dim)]\n",
        "        size = [-1 if i != target_dim else 1 for i in range(total_dim)]\n",
        "        return tf.squeeze(tf.slice(tensor_in, begin, size), axis=target_dim)\n",
        "    return tf.keras.layers.Lambda(tensor_filter)\n",
        "\n",
        "\n",
        "''' Implement `submodel` for each slice of tensor.\n",
        "\n",
        "The model would slice its input tensor into pieces using `__get_filter_layer` \n",
        "along `branch_index`th dimension, then for each slice, implement submodel, \n",
        "finally the outputs of different submodels would be concated and reshaped to \n",
        "meet the demand of output.\n",
        "\n",
        "Args:\n",
        "    input_shape tuple(int): The shape of the input tensor.\n",
        "    branch_index (int): The index of the dimension to slice, start from 0 as \n",
        "        sample amount dimension.\n",
        "    output_shape tuple(int): The shape of the output tensor.\n",
        "    submodel (Model): The model to apply to different slices.\n",
        "    args (dict): The argument dictionary for `submodel`, exclude the `index` \n",
        "        argument.\n",
        "'''\n",
        "def __get_branch_model(input_shape, branch_index, output_shape, submodel, args={}):\n",
        "    model_input = tf.keras.Input(input_shape)\n",
        "    branch_models = [submodel(**dict(args, **{'index': i}))(model_input) \n",
        "                     for i in range(input_shape[branch_index - 1])]\n",
        "    concated_layers = tf.keras.layers.Concatenate()(branch_models)\n",
        "    model_output = tf.keras.layers.Reshape(output_shape)(concated_layers)\n",
        "    return tf.keras.Model(model_input, model_output)\n",
        "\n",
        "\n",
        "''' A CNN unit to encode segment with single kernel height.\n",
        "\n",
        "The unit would apply a convolution to its input to get a 2-dimensional \n",
        "tensor, then apply max overtime pooling to get a single dimensional tensor.\n",
        "\n",
        "Args:\n",
        "    input_shape ((int)): The shape of segment matrix. (word_max)\n",
        "    kernel_height (int): The height of the convolution kernel.\n",
        "    index (int): The index of the segment in its belonging document.\n",
        "\n",
        "Returns:\n",
        "    (Model): The CNN model to encode the segment matrix.\n",
        "'''\n",
        "def __get_sentence_encode_unit(input_shape, kernel_height, index):\n",
        "    global fake_w2v, w2v_len\n",
        "    cnned_height = input_shape[0] - kernel_height + 1\n",
        "    return tf.keras.models.Sequential([\n",
        "        __get_filter_layer(3, 1, index),\n",
        "        tf.keras.layers.Embedding(50, w2v_len, weights=[fake_w2v], input_length=30),\n",
        "        tf.keras.layers.Reshape((*input_shape, w2v_len, 1)),\n",
        "        tf.keras.layers.Conv2D(hidden_feature_dim, (kernel_height, w2v_len)),\n",
        "        tf.keras.layers.BatchNormalization(),\n",
        "        tf.keras.layers.ReLU(),\n",
        "        tf.keras.layers.Reshape((cnned_height, hidden_feature_dim, 1)),\n",
        "        tf.keras.layers.MaxPool2D((cnned_height, 1))\n",
        "    ])\n",
        "\n",
        "\n",
        "''' A CNN unit to encode segment with multiple kernel heights\n",
        "\n",
        "The unit would apply operation defined in `__get_sentence_encode_unit` for \n",
        "different kernel heights, then concat the result as a 1-dimensional tensor.\n",
        "\n",
        "Args:\n",
        "    input_shape ((int, int)): The shape of the document. (seg_max, word_max)\n",
        "    kernel_heights ([int]): The list of the kernel heights.\n",
        "    index: The index of the segment in its belonging document.\n",
        "\n",
        "Returns:\n",
        "    (Model): The CNN model to encode the segment matrix.\n",
        "'''\n",
        "def __get_multi_kernel_encode_unit(input_shape, kernel_heights, index):\n",
        "    model_input = tf.keras.Input(input_shape)\n",
        "    cnn_layers = [__get_sentence_encode_unit((input_shape[1],), h, index)\n",
        "                     (model_input) for h in kernel_heights]\n",
        "    concated_layers = tf.keras.layers.concatenate(cnn_layers)\n",
        "    model_output = tf.keras.layers.Flatten()(concated_layers)\n",
        "    return tf.keras.Model(model_input, model_output)\n",
        "\n",
        "\n",
        "''' The softmax linear classifier for predicting segment sentiment.\n",
        "\n",
        "Args:\n",
        "    index (int): The index of the segment in its belonging document.\n",
        "\n",
        "Returns:\n",
        "    (Model): The softmax linear classifier to predict segment sentiment.\n",
        "'''\n",
        "def __get_seg_classifier_unit(index):\n",
        "    return tf.keras.models.Sequential([\n",
        "        __get_filter_layer(3, 1, index),\n",
        "        tf.keras.layers.Dropout(dropout_rate),\n",
        "        tf.keras.layers.Dense(level_class_cnt, activation='softmax')\n",
        "    ])\n",
        "\n",
        "\n",
        "''' The unit to get the attention weight for a segment from hidden feature.\n",
        "\n",
        "Args:\n",
        "    index (int): The index of the segment in its belonging document.\n",
        "\n",
        "Returns:\n",
        "    (Model): The model for predicting attention weight for a segment.\n",
        "\n",
        "'''\n",
        "def __get_attention_unit(index):\n",
        "    return tf.keras.models.Sequential([\n",
        "        __get_filter_layer(3, 1, index),\n",
        "        tf.keras.layers.Dropout(dropout_rate),\n",
        "        tf.keras.layers.Dense(2 * gru_feature_dim, activation='tanh'),\n",
        "        tf.keras.layers.Dense(1, use_bias=False, activation='softmax')\n",
        "    ])\n",
        "\n",
        "\n",
        "''' A bidirectional-GRU unit to extract the hidden vectors.\n",
        "\n",
        "The hidden vectors are used to predict the attention weights of the model.\n",
        "\n",
        "Returns:\n",
        "    (Model): The bidirectional-GRU unit to predict the hidden vectors.\n",
        "'''\n",
        "def __get_bidirectional_gru_unit():\n",
        "    return tf.keras.models.Sequential([\n",
        "        tf.keras.layers.Bidirectional(\n",
        "            tf.keras.layers.GRU(gru_feature_dim, return_sequences=True)\n",
        "        )\n",
        "    ])"
      ],
      "execution_count": 0,
      "outputs": []
    },
    {
      "cell_type": "code",
      "metadata": {
        "id": "be9L2dRmz37F",
        "colab_type": "code",
        "outputId": "7ed8fb96-a986-4796-a85c-8bef9dc70443",
        "colab": {
          "base_uri": "https://localhost:8080/",
          "height": 173
        }
      },
      "source": [
        "model_input = tf.keras.Input((max_seg, max_word))\n",
        "\n",
        "encoding_model = __get_branch_model(\n",
        "    input_shape=(max_seg, max_word), \n",
        "    branch_index=1, \n",
        "    output_shape=(max_seg, len(kernel_heights) * hidden_feature_dim), \n",
        "    submodel=__get_multi_kernel_encode_unit, \n",
        "    args={'kernel_heights': kernel_heights, 'input_shape': (max_seg, max_word)}\n",
        ")(model_input)\n",
        "\n",
        "biglu_model = __get_bidirectional_gru_unit()(encoding_model)\n",
        "\n",
        "attention_model = __get_branch_model(\n",
        "    input_shape=(max_seg, 2 * gru_feature_dim), \n",
        "    branch_index=1, \n",
        "    output_shape=(max_seg, 1), \n",
        "    submodel=__get_attention_unit\n",
        ")(biglu_model)\n",
        "\n",
        "classification_model = __get_branch_model(\n",
        "    input_shape=(max_seg, len(kernel_heights) * hidden_feature_dim), \n",
        "    branch_index=1, \n",
        "    output_shape=(max_seg, level_class_cnt), \n",
        "    submodel=__get_seg_classifier_unit\n",
        ")(encoding_model)\n",
        "\n",
        "weighted_layer = tf.keras.layers.Lambda(tf.matmul, \n",
        "                                        arguments={'transpose_a': True, 'b': attention_model})(classification_model)\n",
        "\n",
        "squeeze_layer = tf.keras.layers.Lambda(tf.squeeze, arguments={'axis': -1})(weighted_layer)\n",
        "\n",
        "model = tf.keras.Model(model_input, squeeze_layer)\n",
        "\n",
        "model.compile(optimizer=tf.keras.optimizers.Adam(),\n",
        "              loss=tf.keras.losses.SparseCategoricalCrossentropy(),\n",
        "              metrics=['accuracy'])\n",
        "\n",
        "print('Model Compiled.')\n",
        "\n",
        "model.fit(x_train, y_train, epochs=1)\n",
        "\n",
        "print(model.predict(x_test).shape)"
      ],
      "execution_count": 7,
      "outputs": [
        {
          "output_type": "stream",
          "text": [
            "Model Compiled.\n"
          ],
          "name": "stdout"
        },
        {
          "output_type": "stream",
          "text": [
            "WARNING: Logging before flag parsing goes to stderr.\n",
            "W0617 09:34:30.292229 140499544840064 deprecation.py:323] From /usr/local/lib/python3.6/dist-packages/tensorflow/python/ops/math_grad.py:1250: add_dispatch_support.<locals>.wrapper (from tensorflow.python.ops.array_ops) is deprecated and will be removed in a future version.\n",
            "Instructions for updating:\n",
            "Use tf.where in 2.0, which has the same broadcast rule as np.where\n"
          ],
          "name": "stderr"
        },
        {
          "output_type": "stream",
          "text": [
            "Train on 500 samples\n",
            "500/500 [==============================] - 37s 74ms/sample - loss: 1.6101 - accuracy: 0.2000\n",
            "(100, 5)\n"
          ],
          "name": "stdout"
        }
      ]
    },
    {
      "cell_type": "code",
      "metadata": {
        "id": "EciimziuXbUL",
        "colab_type": "code",
        "colab": {
          "base_uri": "https://localhost:8080/",
          "height": 34
        },
        "outputId": "ae147c0c-9140-41a8-87a5-548e73d389b7"
      },
      "source": [
        "model = tf.keras.models.Sequential([\n",
        "    tf.keras.layers.Reshape(target_shape=(30, 20, 1))\n",
        "])\n",
        "model.compile(optimizer=tf.keras.optimizers.Adam(),\n",
        "              loss=tf.keras.losses.SparseCategoricalCrossentropy(),\n",
        "              metrics=['accuracy'])\n",
        "model.predict(np.random.rand(10, 30, 20)).shape"
      ],
      "execution_count": 10,
      "outputs": [
        {
          "output_type": "execute_result",
          "data": {
            "text/plain": [
              "(10, 30, 20, 1)"
            ]
          },
          "metadata": {
            "tags": []
          },
          "execution_count": 10
        }
      ]
    },
    {
      "cell_type": "code",
      "metadata": {
        "id": "JHhXpy_poIht",
        "colab_type": "code",
        "colab": {}
      },
      "source": [
        ""
      ],
      "execution_count": 0,
      "outputs": []
    }
  ]
}